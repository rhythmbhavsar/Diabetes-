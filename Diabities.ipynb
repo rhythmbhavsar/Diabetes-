{
 "cells": [
  {
   "cell_type": "markdown",
   "id": "a902d152",
   "metadata": {},
   "source": [
    "# **Pima Indians Diabetes Database Descriptive Statistics Project**\n",
    "\n",
    "Predict the onset of diabetes based on diagnostic measures. This dataset is originally from the National Institute of Diabetes and Digestive and Kidney Diseases. The objective of the dataset is to diagnostically predict whether a patient has diabetes, based on certain diagnostic measurements included in the dataset.\n",
    "\n",
    "\n",
    "\n",
    "\n",
    "### **Columns of the dataset**\n",
    "\n",
    "- **Pregnancies:** Number of times pregnant\n",
    "\n",
    "- **Glucose:** Plasma glucose concentration 2 hours in an oral glucose tolerance test\n",
    "\n",
    "- **Blood Pressure:** Diastolic blood pressure (mm Hg)\n",
    "\n",
    "- **Skin Thickness:** Triceps skin fold thickness (mm\n",
    "\n",
    "- **Insulin:** 2-Hour serum insulin (mu U/ml)\n",
    "\n",
    "- **BMI:** Body mass index (weight in kg/(height in m)^2) \n",
    "\n",
    "- **Diabetes Pedigree Function:** Diabetes pedigree function\n",
    "\n",
    "- **Age:** Age (years)\n",
    "\n",
    "- **Outcome:** Class variable (0 or 1) 0 mean non-diabetic and 1 means diabetic"
   ]
  },
  {
   "cell_type": "code",
   "execution_count": 49,
   "id": "045b0540",
   "metadata": {},
   "outputs": [],
   "source": [
    "import pandas as pd\n",
    "import seaborn as sns\n",
    "import matplotlib.pyplot as plt\n",
    "import random"
   ]
  },
  {
   "cell_type": "code",
   "execution_count": 2,
   "id": "40164b1c",
   "metadata": {},
   "outputs": [],
   "source": [
    "import warnings\n",
    "warnings.filterwarnings(\"ignore\")"
   ]
  },
  {
   "cell_type": "code",
   "execution_count": 3,
   "id": "1c9c8e52",
   "metadata": {},
   "outputs": [],
   "source": [
    "diabetes = pd.read_csv(\"diabetes.csv\")"
   ]
  },
  {
   "cell_type": "code",
   "execution_count": 4,
   "id": "b99a03b1",
   "metadata": {},
   "outputs": [
    {
     "data": {
      "text/html": [
       "<div>\n",
       "<style scoped>\n",
       "    .dataframe tbody tr th:only-of-type {\n",
       "        vertical-align: middle;\n",
       "    }\n",
       "\n",
       "    .dataframe tbody tr th {\n",
       "        vertical-align: top;\n",
       "    }\n",
       "\n",
       "    .dataframe thead th {\n",
       "        text-align: right;\n",
       "    }\n",
       "</style>\n",
       "<table border=\"1\" class=\"dataframe\">\n",
       "  <thead>\n",
       "    <tr style=\"text-align: right;\">\n",
       "      <th></th>\n",
       "      <th>Pregnancies</th>\n",
       "      <th>Glucose</th>\n",
       "      <th>BloodPressure</th>\n",
       "      <th>SkinThickness</th>\n",
       "      <th>Insulin</th>\n",
       "      <th>BMI</th>\n",
       "      <th>DiabetesPedigreeFunction</th>\n",
       "      <th>Age</th>\n",
       "      <th>Outcome</th>\n",
       "    </tr>\n",
       "  </thead>\n",
       "  <tbody>\n",
       "    <tr>\n",
       "      <th>0</th>\n",
       "      <td>6</td>\n",
       "      <td>148</td>\n",
       "      <td>72</td>\n",
       "      <td>35</td>\n",
       "      <td>0</td>\n",
       "      <td>33.6</td>\n",
       "      <td>0.627</td>\n",
       "      <td>50</td>\n",
       "      <td>1</td>\n",
       "    </tr>\n",
       "    <tr>\n",
       "      <th>1</th>\n",
       "      <td>1</td>\n",
       "      <td>85</td>\n",
       "      <td>66</td>\n",
       "      <td>29</td>\n",
       "      <td>0</td>\n",
       "      <td>26.6</td>\n",
       "      <td>0.351</td>\n",
       "      <td>31</td>\n",
       "      <td>0</td>\n",
       "    </tr>\n",
       "    <tr>\n",
       "      <th>2</th>\n",
       "      <td>8</td>\n",
       "      <td>183</td>\n",
       "      <td>64</td>\n",
       "      <td>0</td>\n",
       "      <td>0</td>\n",
       "      <td>23.3</td>\n",
       "      <td>0.672</td>\n",
       "      <td>32</td>\n",
       "      <td>1</td>\n",
       "    </tr>\n",
       "    <tr>\n",
       "      <th>3</th>\n",
       "      <td>1</td>\n",
       "      <td>89</td>\n",
       "      <td>66</td>\n",
       "      <td>23</td>\n",
       "      <td>94</td>\n",
       "      <td>28.1</td>\n",
       "      <td>0.167</td>\n",
       "      <td>21</td>\n",
       "      <td>0</td>\n",
       "    </tr>\n",
       "    <tr>\n",
       "      <th>4</th>\n",
       "      <td>0</td>\n",
       "      <td>137</td>\n",
       "      <td>40</td>\n",
       "      <td>35</td>\n",
       "      <td>168</td>\n",
       "      <td>43.1</td>\n",
       "      <td>2.288</td>\n",
       "      <td>33</td>\n",
       "      <td>1</td>\n",
       "    </tr>\n",
       "    <tr>\n",
       "      <th>...</th>\n",
       "      <td>...</td>\n",
       "      <td>...</td>\n",
       "      <td>...</td>\n",
       "      <td>...</td>\n",
       "      <td>...</td>\n",
       "      <td>...</td>\n",
       "      <td>...</td>\n",
       "      <td>...</td>\n",
       "      <td>...</td>\n",
       "    </tr>\n",
       "    <tr>\n",
       "      <th>763</th>\n",
       "      <td>10</td>\n",
       "      <td>101</td>\n",
       "      <td>76</td>\n",
       "      <td>48</td>\n",
       "      <td>180</td>\n",
       "      <td>32.9</td>\n",
       "      <td>0.171</td>\n",
       "      <td>63</td>\n",
       "      <td>0</td>\n",
       "    </tr>\n",
       "    <tr>\n",
       "      <th>764</th>\n",
       "      <td>2</td>\n",
       "      <td>122</td>\n",
       "      <td>70</td>\n",
       "      <td>27</td>\n",
       "      <td>0</td>\n",
       "      <td>36.8</td>\n",
       "      <td>0.340</td>\n",
       "      <td>27</td>\n",
       "      <td>0</td>\n",
       "    </tr>\n",
       "    <tr>\n",
       "      <th>765</th>\n",
       "      <td>5</td>\n",
       "      <td>121</td>\n",
       "      <td>72</td>\n",
       "      <td>23</td>\n",
       "      <td>112</td>\n",
       "      <td>26.2</td>\n",
       "      <td>0.245</td>\n",
       "      <td>30</td>\n",
       "      <td>0</td>\n",
       "    </tr>\n",
       "    <tr>\n",
       "      <th>766</th>\n",
       "      <td>1</td>\n",
       "      <td>126</td>\n",
       "      <td>60</td>\n",
       "      <td>0</td>\n",
       "      <td>0</td>\n",
       "      <td>30.1</td>\n",
       "      <td>0.349</td>\n",
       "      <td>47</td>\n",
       "      <td>1</td>\n",
       "    </tr>\n",
       "    <tr>\n",
       "      <th>767</th>\n",
       "      <td>1</td>\n",
       "      <td>93</td>\n",
       "      <td>70</td>\n",
       "      <td>31</td>\n",
       "      <td>0</td>\n",
       "      <td>30.4</td>\n",
       "      <td>0.315</td>\n",
       "      <td>23</td>\n",
       "      <td>0</td>\n",
       "    </tr>\n",
       "  </tbody>\n",
       "</table>\n",
       "<p>768 rows × 9 columns</p>\n",
       "</div>"
      ],
      "text/plain": [
       "     Pregnancies  Glucose  BloodPressure  SkinThickness  Insulin   BMI  \\\n",
       "0              6      148             72             35        0  33.6   \n",
       "1              1       85             66             29        0  26.6   \n",
       "2              8      183             64              0        0  23.3   \n",
       "3              1       89             66             23       94  28.1   \n",
       "4              0      137             40             35      168  43.1   \n",
       "..           ...      ...            ...            ...      ...   ...   \n",
       "763           10      101             76             48      180  32.9   \n",
       "764            2      122             70             27        0  36.8   \n",
       "765            5      121             72             23      112  26.2   \n",
       "766            1      126             60              0        0  30.1   \n",
       "767            1       93             70             31        0  30.4   \n",
       "\n",
       "     DiabetesPedigreeFunction  Age  Outcome  \n",
       "0                       0.627   50        1  \n",
       "1                       0.351   31        0  \n",
       "2                       0.672   32        1  \n",
       "3                       0.167   21        0  \n",
       "4                       2.288   33        1  \n",
       "..                        ...  ...      ...  \n",
       "763                     0.171   63        0  \n",
       "764                     0.340   27        0  \n",
       "765                     0.245   30        0  \n",
       "766                     0.349   47        1  \n",
       "767                     0.315   23        0  \n",
       "\n",
       "[768 rows x 9 columns]"
      ]
     },
     "execution_count": 4,
     "metadata": {},
     "output_type": "execute_result"
    }
   ],
   "source": [
    "diabetes"
   ]
  },
  {
   "cell_type": "code",
   "execution_count": null,
   "id": "268bdc9e",
   "metadata": {},
   "outputs": [],
   "source": []
  },
  {
   "cell_type": "code",
   "execution_count": null,
   "id": "50e8d222",
   "metadata": {},
   "outputs": [],
   "source": []
  },
  {
   "cell_type": "markdown",
   "id": "62702b1d",
   "metadata": {},
   "source": [
    "## 1.    Please do the basic exploration of data and explain missing values, number of rows and columns and data types in statistical term."
   ]
  },
  {
   "cell_type": "markdown",
   "id": "5a1351b9",
   "metadata": {},
   "source": [
    "- **Finding if there are any null and Zero values in the data set**"
   ]
  },
  {
   "cell_type": "code",
   "execution_count": 5,
   "id": "8f33f5fb",
   "metadata": {},
   "outputs": [
    {
     "data": {
      "text/plain": [
       "False"
      ]
     },
     "execution_count": 5,
     "metadata": {},
     "output_type": "execute_result"
    }
   ],
   "source": [
    "diabetes.isnull().values.any()\n",
    "## To check if data contains null values"
   ]
  },
  {
   "cell_type": "markdown",
   "id": "861338d2",
   "metadata": {},
   "source": [
    "- Data frame doesn’t have any NAN values\n",
    "- As a next step, we will do preliminary screening of descriptive stats for the dataset"
   ]
  },
  {
   "cell_type": "code",
   "execution_count": 6,
   "id": "7762fb64",
   "metadata": {},
   "outputs": [
    {
     "data": {
      "text/html": [
       "<div>\n",
       "<style scoped>\n",
       "    .dataframe tbody tr th:only-of-type {\n",
       "        vertical-align: middle;\n",
       "    }\n",
       "\n",
       "    .dataframe tbody tr th {\n",
       "        vertical-align: top;\n",
       "    }\n",
       "\n",
       "    .dataframe thead th {\n",
       "        text-align: right;\n",
       "    }\n",
       "</style>\n",
       "<table border=\"1\" class=\"dataframe\">\n",
       "  <thead>\n",
       "    <tr style=\"text-align: right;\">\n",
       "      <th></th>\n",
       "      <th>Pregnancies</th>\n",
       "      <th>Glucose</th>\n",
       "      <th>BloodPressure</th>\n",
       "      <th>SkinThickness</th>\n",
       "      <th>Insulin</th>\n",
       "      <th>BMI</th>\n",
       "      <th>DiabetesPedigreeFunction</th>\n",
       "      <th>Age</th>\n",
       "      <th>Outcome</th>\n",
       "    </tr>\n",
       "  </thead>\n",
       "  <tbody>\n",
       "    <tr>\n",
       "      <th>count</th>\n",
       "      <td>768.000000</td>\n",
       "      <td>768.000000</td>\n",
       "      <td>768.000000</td>\n",
       "      <td>768.000000</td>\n",
       "      <td>768.000000</td>\n",
       "      <td>768.000000</td>\n",
       "      <td>768.000000</td>\n",
       "      <td>768.000000</td>\n",
       "      <td>768.000000</td>\n",
       "    </tr>\n",
       "    <tr>\n",
       "      <th>mean</th>\n",
       "      <td>3.845052</td>\n",
       "      <td>120.894531</td>\n",
       "      <td>69.105469</td>\n",
       "      <td>20.536458</td>\n",
       "      <td>79.799479</td>\n",
       "      <td>31.992578</td>\n",
       "      <td>0.471876</td>\n",
       "      <td>33.240885</td>\n",
       "      <td>0.348958</td>\n",
       "    </tr>\n",
       "    <tr>\n",
       "      <th>std</th>\n",
       "      <td>3.369578</td>\n",
       "      <td>31.972618</td>\n",
       "      <td>19.355807</td>\n",
       "      <td>15.952218</td>\n",
       "      <td>115.244002</td>\n",
       "      <td>7.884160</td>\n",
       "      <td>0.331329</td>\n",
       "      <td>11.760232</td>\n",
       "      <td>0.476951</td>\n",
       "    </tr>\n",
       "    <tr>\n",
       "      <th>min</th>\n",
       "      <td>0.000000</td>\n",
       "      <td>0.000000</td>\n",
       "      <td>0.000000</td>\n",
       "      <td>0.000000</td>\n",
       "      <td>0.000000</td>\n",
       "      <td>0.000000</td>\n",
       "      <td>0.078000</td>\n",
       "      <td>21.000000</td>\n",
       "      <td>0.000000</td>\n",
       "    </tr>\n",
       "    <tr>\n",
       "      <th>25%</th>\n",
       "      <td>1.000000</td>\n",
       "      <td>99.000000</td>\n",
       "      <td>62.000000</td>\n",
       "      <td>0.000000</td>\n",
       "      <td>0.000000</td>\n",
       "      <td>27.300000</td>\n",
       "      <td>0.243750</td>\n",
       "      <td>24.000000</td>\n",
       "      <td>0.000000</td>\n",
       "    </tr>\n",
       "    <tr>\n",
       "      <th>50%</th>\n",
       "      <td>3.000000</td>\n",
       "      <td>117.000000</td>\n",
       "      <td>72.000000</td>\n",
       "      <td>23.000000</td>\n",
       "      <td>30.500000</td>\n",
       "      <td>32.000000</td>\n",
       "      <td>0.372500</td>\n",
       "      <td>29.000000</td>\n",
       "      <td>0.000000</td>\n",
       "    </tr>\n",
       "    <tr>\n",
       "      <th>75%</th>\n",
       "      <td>6.000000</td>\n",
       "      <td>140.250000</td>\n",
       "      <td>80.000000</td>\n",
       "      <td>32.000000</td>\n",
       "      <td>127.250000</td>\n",
       "      <td>36.600000</td>\n",
       "      <td>0.626250</td>\n",
       "      <td>41.000000</td>\n",
       "      <td>1.000000</td>\n",
       "    </tr>\n",
       "    <tr>\n",
       "      <th>max</th>\n",
       "      <td>17.000000</td>\n",
       "      <td>199.000000</td>\n",
       "      <td>122.000000</td>\n",
       "      <td>99.000000</td>\n",
       "      <td>846.000000</td>\n",
       "      <td>67.100000</td>\n",
       "      <td>2.420000</td>\n",
       "      <td>81.000000</td>\n",
       "      <td>1.000000</td>\n",
       "    </tr>\n",
       "  </tbody>\n",
       "</table>\n",
       "</div>"
      ],
      "text/plain": [
       "       Pregnancies     Glucose  BloodPressure  SkinThickness     Insulin  \\\n",
       "count   768.000000  768.000000     768.000000     768.000000  768.000000   \n",
       "mean      3.845052  120.894531      69.105469      20.536458   79.799479   \n",
       "std       3.369578   31.972618      19.355807      15.952218  115.244002   \n",
       "min       0.000000    0.000000       0.000000       0.000000    0.000000   \n",
       "25%       1.000000   99.000000      62.000000       0.000000    0.000000   \n",
       "50%       3.000000  117.000000      72.000000      23.000000   30.500000   \n",
       "75%       6.000000  140.250000      80.000000      32.000000  127.250000   \n",
       "max      17.000000  199.000000     122.000000      99.000000  846.000000   \n",
       "\n",
       "              BMI  DiabetesPedigreeFunction         Age     Outcome  \n",
       "count  768.000000                768.000000  768.000000  768.000000  \n",
       "mean    31.992578                  0.471876   33.240885    0.348958  \n",
       "std      7.884160                  0.331329   11.760232    0.476951  \n",
       "min      0.000000                  0.078000   21.000000    0.000000  \n",
       "25%     27.300000                  0.243750   24.000000    0.000000  \n",
       "50%     32.000000                  0.372500   29.000000    0.000000  \n",
       "75%     36.600000                  0.626250   41.000000    1.000000  \n",
       "max     67.100000                  2.420000   81.000000    1.000000  "
      ]
     },
     "execution_count": 6,
     "metadata": {},
     "output_type": "execute_result"
    }
   ],
   "source": [
    "diabetes.describe()\n",
    "## To run numerical descriptive stats for the data set"
   ]
  },
  {
   "cell_type": "code",
   "execution_count": null,
   "id": "e28db0b7",
   "metadata": {},
   "outputs": [],
   "source": []
  },
  {
   "cell_type": "markdown",
   "id": "ae7e7b6a",
   "metadata": {},
   "source": [
    "- Minimum values for many variables are 0.\n",
    "- As biological parameters like Glucose, BloodPreasure, Skin thickness,Insulin & BMI cannot have zero values, looks like null values have     been coded as zeros"
   ]
  },
  {
   "cell_type": "code",
   "execution_count": 7,
   "id": "626df356",
   "metadata": {},
   "outputs": [
    {
     "data": {
      "text/plain": [
       "(111, 5, 35, 227, 374, 11, 0, 0)"
      ]
     },
     "execution_count": 7,
     "metadata": {},
     "output_type": "execute_result"
    }
   ],
   "source": [
    "(diabetes.Pregnancies == 0).sum(),(diabetes.Glucose==0).sum(),(diabetes.BloodPressure==0).sum(),(diabetes.SkinThickness==0).sum(),(diabetes.Insulin==0).sum(),(diabetes.BMI==0).sum(),(diabetes.DiabetesPedigreeFunction==0).sum(),(diabetes.Age==0).sum()\n",
    "## Counting cells with 0 Values for each variable and publishing the counts below"
   ]
  },
  {
   "cell_type": "markdown",
   "id": "483108e4",
   "metadata": {},
   "source": [
    "- As Zero Counts of some the variables are as high as 374 and 227, in a 768 data set, it is better to remove the Zeros uniformly for 5 variables (excl Pregnancies & Outcome)\n",
    "- As a next step, we’ll drop 0 values and create a our new dataset which can be used for further analysis"
   ]
  },
  {
   "cell_type": "code",
   "execution_count": 11,
   "id": "626dcadd",
   "metadata": {},
   "outputs": [],
   "source": [
    "#dropping null values\n",
    "\n",
    "drop_Glu=diabetes.index[diabetes.Glucose == 0].tolist()\n",
    "drop_BP=diabetes.index[diabetes.BloodPressure == 0].tolist()\n",
    "drop_Skin = diabetes.index[diabetes.SkinThickness==0].tolist()\n",
    "drop_Ins = diabetes.index[diabetes.Insulin==0].tolist()\n",
    "drop_BMI = diabetes.index[diabetes.BMI==0].tolist()\n",
    "c=drop_Glu+drop_BP+drop_Skin+drop_Ins+drop_BMI\n",
    "diabetes_f=diabetes.drop(diabetes.index[c])"
   ]
  },
  {
   "cell_type": "code",
   "execution_count": 12,
   "id": "b017936a",
   "metadata": {
    "scrolled": true
   },
   "outputs": [
    {
     "data": {
      "text/html": [
       "<div>\n",
       "<style scoped>\n",
       "    .dataframe tbody tr th:only-of-type {\n",
       "        vertical-align: middle;\n",
       "    }\n",
       "\n",
       "    .dataframe tbody tr th {\n",
       "        vertical-align: top;\n",
       "    }\n",
       "\n",
       "    .dataframe thead th {\n",
       "        text-align: right;\n",
       "    }\n",
       "</style>\n",
       "<table border=\"1\" class=\"dataframe\">\n",
       "  <thead>\n",
       "    <tr style=\"text-align: right;\">\n",
       "      <th></th>\n",
       "      <th>Pregnancies</th>\n",
       "      <th>Glucose</th>\n",
       "      <th>BloodPressure</th>\n",
       "      <th>SkinThickness</th>\n",
       "      <th>Insulin</th>\n",
       "      <th>BMI</th>\n",
       "      <th>DiabetesPedigreeFunction</th>\n",
       "      <th>Age</th>\n",
       "      <th>Outcome</th>\n",
       "    </tr>\n",
       "  </thead>\n",
       "  <tbody>\n",
       "    <tr>\n",
       "      <th>3</th>\n",
       "      <td>1</td>\n",
       "      <td>89</td>\n",
       "      <td>66</td>\n",
       "      <td>23</td>\n",
       "      <td>94</td>\n",
       "      <td>28.1</td>\n",
       "      <td>0.167</td>\n",
       "      <td>21</td>\n",
       "      <td>0</td>\n",
       "    </tr>\n",
       "    <tr>\n",
       "      <th>4</th>\n",
       "      <td>0</td>\n",
       "      <td>137</td>\n",
       "      <td>40</td>\n",
       "      <td>35</td>\n",
       "      <td>168</td>\n",
       "      <td>43.1</td>\n",
       "      <td>2.288</td>\n",
       "      <td>33</td>\n",
       "      <td>1</td>\n",
       "    </tr>\n",
       "    <tr>\n",
       "      <th>6</th>\n",
       "      <td>3</td>\n",
       "      <td>78</td>\n",
       "      <td>50</td>\n",
       "      <td>32</td>\n",
       "      <td>88</td>\n",
       "      <td>31.0</td>\n",
       "      <td>0.248</td>\n",
       "      <td>26</td>\n",
       "      <td>1</td>\n",
       "    </tr>\n",
       "    <tr>\n",
       "      <th>8</th>\n",
       "      <td>2</td>\n",
       "      <td>197</td>\n",
       "      <td>70</td>\n",
       "      <td>45</td>\n",
       "      <td>543</td>\n",
       "      <td>30.5</td>\n",
       "      <td>0.158</td>\n",
       "      <td>53</td>\n",
       "      <td>1</td>\n",
       "    </tr>\n",
       "    <tr>\n",
       "      <th>13</th>\n",
       "      <td>1</td>\n",
       "      <td>189</td>\n",
       "      <td>60</td>\n",
       "      <td>23</td>\n",
       "      <td>846</td>\n",
       "      <td>30.1</td>\n",
       "      <td>0.398</td>\n",
       "      <td>59</td>\n",
       "      <td>1</td>\n",
       "    </tr>\n",
       "    <tr>\n",
       "      <th>...</th>\n",
       "      <td>...</td>\n",
       "      <td>...</td>\n",
       "      <td>...</td>\n",
       "      <td>...</td>\n",
       "      <td>...</td>\n",
       "      <td>...</td>\n",
       "      <td>...</td>\n",
       "      <td>...</td>\n",
       "      <td>...</td>\n",
       "    </tr>\n",
       "    <tr>\n",
       "      <th>753</th>\n",
       "      <td>0</td>\n",
       "      <td>181</td>\n",
       "      <td>88</td>\n",
       "      <td>44</td>\n",
       "      <td>510</td>\n",
       "      <td>43.3</td>\n",
       "      <td>0.222</td>\n",
       "      <td>26</td>\n",
       "      <td>1</td>\n",
       "    </tr>\n",
       "    <tr>\n",
       "      <th>755</th>\n",
       "      <td>1</td>\n",
       "      <td>128</td>\n",
       "      <td>88</td>\n",
       "      <td>39</td>\n",
       "      <td>110</td>\n",
       "      <td>36.5</td>\n",
       "      <td>1.057</td>\n",
       "      <td>37</td>\n",
       "      <td>1</td>\n",
       "    </tr>\n",
       "    <tr>\n",
       "      <th>760</th>\n",
       "      <td>2</td>\n",
       "      <td>88</td>\n",
       "      <td>58</td>\n",
       "      <td>26</td>\n",
       "      <td>16</td>\n",
       "      <td>28.4</td>\n",
       "      <td>0.766</td>\n",
       "      <td>22</td>\n",
       "      <td>0</td>\n",
       "    </tr>\n",
       "    <tr>\n",
       "      <th>763</th>\n",
       "      <td>10</td>\n",
       "      <td>101</td>\n",
       "      <td>76</td>\n",
       "      <td>48</td>\n",
       "      <td>180</td>\n",
       "      <td>32.9</td>\n",
       "      <td>0.171</td>\n",
       "      <td>63</td>\n",
       "      <td>0</td>\n",
       "    </tr>\n",
       "    <tr>\n",
       "      <th>765</th>\n",
       "      <td>5</td>\n",
       "      <td>121</td>\n",
       "      <td>72</td>\n",
       "      <td>23</td>\n",
       "      <td>112</td>\n",
       "      <td>26.2</td>\n",
       "      <td>0.245</td>\n",
       "      <td>30</td>\n",
       "      <td>0</td>\n",
       "    </tr>\n",
       "  </tbody>\n",
       "</table>\n",
       "<p>392 rows × 9 columns</p>\n",
       "</div>"
      ],
      "text/plain": [
       "     Pregnancies  Glucose  BloodPressure  SkinThickness  Insulin   BMI  \\\n",
       "3              1       89             66             23       94  28.1   \n",
       "4              0      137             40             35      168  43.1   \n",
       "6              3       78             50             32       88  31.0   \n",
       "8              2      197             70             45      543  30.5   \n",
       "13             1      189             60             23      846  30.1   \n",
       "..           ...      ...            ...            ...      ...   ...   \n",
       "753            0      181             88             44      510  43.3   \n",
       "755            1      128             88             39      110  36.5   \n",
       "760            2       88             58             26       16  28.4   \n",
       "763           10      101             76             48      180  32.9   \n",
       "765            5      121             72             23      112  26.2   \n",
       "\n",
       "     DiabetesPedigreeFunction  Age  Outcome  \n",
       "3                       0.167   21        0  \n",
       "4                       2.288   33        1  \n",
       "6                       0.248   26        1  \n",
       "8                       0.158   53        1  \n",
       "13                      0.398   59        1  \n",
       "..                        ...  ...      ...  \n",
       "753                     0.222   26        1  \n",
       "755                     1.057   37        1  \n",
       "760                     0.766   22        0  \n",
       "763                     0.171   63        0  \n",
       "765                     0.245   30        0  \n",
       "\n",
       "[392 rows x 9 columns]"
      ]
     },
     "execution_count": 12,
     "metadata": {},
     "output_type": "execute_result"
    }
   ],
   "source": [
    "#diabetes_f is the final dataset with the non-zero values\n",
    "diabetes_f"
   ]
  },
  {
   "cell_type": "markdown",
   "id": "fe46fdae",
   "metadata": {},
   "source": [
    "- Finding the rows and the columns of the dataset"
   ]
  },
  {
   "cell_type": "code",
   "execution_count": 13,
   "id": "29ff648a",
   "metadata": {},
   "outputs": [
    {
     "data": {
      "text/plain": [
       "(392, 9)"
      ]
     },
     "execution_count": 13,
     "metadata": {},
     "output_type": "execute_result"
    }
   ],
   "source": [
    "# .shape function is used to find the columns and the rows of the dataset\n",
    "\n",
    "diabetes_f.shape"
   ]
  },
  {
   "cell_type": "markdown",
   "id": "67e71044",
   "metadata": {},
   "source": [
    "  **As we can see:**\n",
    "  - Total number **Rows** are 392\n",
    "  - Total number of **columns** are 9\n",
    "  \n",
    "  \n",
    "  **Datatypes in statisical terms**\n",
    "\n",
    "  - ***Pregnencies :-*** Discrete data\n",
    "  - ***Glucose :-*** Discrete data\n",
    "  - ***BloodPressure :-*** Discrete data\n",
    "  - ***SkinThickness :-*** Discrete data\n",
    "  - ***Insulin :-*** Discrete data\n",
    "  - ***BMI :-*** Continuous data\n",
    "  - ***DiabetesPedigreeFunction :-*** Continuous data\n",
    "  - ***Age :-*** Continuous data\n",
    "  - ***Outcome :-*** Catagorical data"
   ]
  },
  {
   "cell_type": "code",
   "execution_count": null,
   "id": "e2369eb1",
   "metadata": {},
   "outputs": [],
   "source": []
  },
  {
   "cell_type": "code",
   "execution_count": null,
   "id": "2f6b5821",
   "metadata": {},
   "outputs": [],
   "source": []
  },
  {
   "cell_type": "markdown",
   "id": "1e169974",
   "metadata": {},
   "source": [
    "## 2.  Calculate appropriate measures of central tendency for Glucose and outcome column only?"
   ]
  },
  {
   "cell_type": "markdown",
   "id": "c56b5d66",
   "metadata": {},
   "source": [
    "#### Glucose is numerical data.\n",
    "\n",
    "For numerical data you have to check distribution first."
   ]
  },
  {
   "cell_type": "code",
   "execution_count": 45,
   "id": "90d8b68b",
   "metadata": {},
   "outputs": [
    {
     "data": {
      "text/plain": [
       "<AxesSubplot:xlabel='Glucose', ylabel='Count'>"
      ]
     },
     "execution_count": 45,
     "metadata": {},
     "output_type": "execute_result"
    },
    {
     "data": {
      "image/png": "[encoded data removed]",
      "text/plain": [
       "<Figure size 432x288 with 1 Axes>"
      ]
     },
     "metadata": {
      "needs_background": "light"
     },
     "output_type": "display_data"
    }
   ],
   "source": [
    "#Plotting histogram for the distribution \n",
    "\n",
    "sns.histplot(diabetes_f['Glucose'], kde=True,edgecolor = 'white')"
   ]
  },
  {
   "cell_type": "markdown",
   "id": "da9c0fb1",
   "metadata": {},
   "source": [
    "As we can see Gluose is containing **skewed data**.\n",
    "\n",
    "The **median** is usually preferred to other measures of central tendency when your data set is **skewed data**. However, the mode can also be appropriate in these situations, but is not as commonly used as the median."
   ]
  },
  {
   "cell_type": "code",
   "execution_count": 46,
   "id": "6b6dc86c",
   "metadata": {},
   "outputs": [
    {
     "data": {
      "text/plain": [
       "119.0"
      ]
     },
     "execution_count": 46,
     "metadata": {},
     "output_type": "execute_result"
    }
   ],
   "source": [
    "diabetes_f.Glucose.median()"
   ]
  },
  {
   "cell_type": "markdown",
   "id": "89de2792",
   "metadata": {},
   "source": [
    "Measures of central tendency for **Glucose** is **119.0**"
   ]
  },
  {
   "cell_type": "markdown",
   "id": "1da297c8",
   "metadata": {},
   "source": [
    "#### **Outcome** is the categorical data. \n",
    "\n",
    "For **categorical data**, we have to use the **mode**. In cases where you are deciding between the mean and median as the better measure of central tendency, you are also determining which types of statistical hypothesis tests are appropriate for our data—if that is your ultimate goal."
   ]
  },
  {
   "cell_type": "code",
   "execution_count": 44,
   "id": "d4c569f9",
   "metadata": {},
   "outputs": [
    {
     "data": {
      "text/plain": [
       "0    0\n",
       "dtype: int64"
      ]
     },
     "execution_count": 44,
     "metadata": {},
     "output_type": "execute_result"
    }
   ],
   "source": [
    "diabetes_f.Outcome.mode()"
   ]
  },
  {
   "cell_type": "markdown",
   "id": "36543580",
   "metadata": {},
   "source": [
    "Measures of central tendency for **Outcome** is **0**"
   ]
  },
  {
   "cell_type": "code",
   "execution_count": null,
   "id": "a8dcfa51",
   "metadata": {},
   "outputs": [],
   "source": []
  },
  {
   "cell_type": "markdown",
   "id": "acc93235",
   "metadata": {},
   "source": [
    "## 3. Please provide 5 points data summaries for required columns?"
   ]
  },
  {
   "cell_type": "markdown",
   "id": "b07a20ef",
   "metadata": {},
   "source": [
    "The five-number summary involves the calculation of 5 summary statistical quantities:\n",
    "\n",
    "  - **min quantile**: The minimum value\n",
    "\n",
    "  - **1st quantile**: The 25th percentile. \n",
    "\n",
    "  - **2nd quantile**: The 50th percentile\n",
    "\n",
    "  - **3rd quantile**: The 75th percentile\n",
    "\n",
    "  - **max quantile**: The maximum value"
   ]
  },
  {
   "cell_type": "code",
   "execution_count": 18,
   "id": "65600f78",
   "metadata": {},
   "outputs": [
    {
     "data": {
      "text/html": [
       "<div>\n",
       "<style scoped>\n",
       "    .dataframe tbody tr th:only-of-type {\n",
       "        vertical-align: middle;\n",
       "    }\n",
       "\n",
       "    .dataframe tbody tr th {\n",
       "        vertical-align: top;\n",
       "    }\n",
       "\n",
       "    .dataframe thead th {\n",
       "        text-align: right;\n",
       "    }\n",
       "</style>\n",
       "<table border=\"1\" class=\"dataframe\">\n",
       "  <thead>\n",
       "    <tr style=\"text-align: right;\">\n",
       "      <th></th>\n",
       "      <th>Pregnancies</th>\n",
       "      <th>Glucose</th>\n",
       "      <th>BloodPressure</th>\n",
       "      <th>SkinThickness</th>\n",
       "      <th>Insulin</th>\n",
       "      <th>BMI</th>\n",
       "      <th>DiabetesPedigreeFunction</th>\n",
       "      <th>Age</th>\n",
       "      <th>Outcome</th>\n",
       "    </tr>\n",
       "  </thead>\n",
       "  <tbody>\n",
       "    <tr>\n",
       "      <th>0.00</th>\n",
       "      <td>0.0</td>\n",
       "      <td>56.0</td>\n",
       "      <td>24.0</td>\n",
       "      <td>7.0</td>\n",
       "      <td>14.00</td>\n",
       "      <td>18.2</td>\n",
       "      <td>0.08500</td>\n",
       "      <td>21.0</td>\n",
       "      <td>0.0</td>\n",
       "    </tr>\n",
       "    <tr>\n",
       "      <th>0.25</th>\n",
       "      <td>1.0</td>\n",
       "      <td>99.0</td>\n",
       "      <td>62.0</td>\n",
       "      <td>21.0</td>\n",
       "      <td>76.75</td>\n",
       "      <td>28.4</td>\n",
       "      <td>0.26975</td>\n",
       "      <td>23.0</td>\n",
       "      <td>0.0</td>\n",
       "    </tr>\n",
       "    <tr>\n",
       "      <th>0.50</th>\n",
       "      <td>2.0</td>\n",
       "      <td>119.0</td>\n",
       "      <td>70.0</td>\n",
       "      <td>29.0</td>\n",
       "      <td>125.50</td>\n",
       "      <td>33.2</td>\n",
       "      <td>0.44950</td>\n",
       "      <td>27.0</td>\n",
       "      <td>0.0</td>\n",
       "    </tr>\n",
       "    <tr>\n",
       "      <th>0.75</th>\n",
       "      <td>5.0</td>\n",
       "      <td>143.0</td>\n",
       "      <td>78.0</td>\n",
       "      <td>37.0</td>\n",
       "      <td>190.00</td>\n",
       "      <td>37.1</td>\n",
       "      <td>0.68700</td>\n",
       "      <td>36.0</td>\n",
       "      <td>1.0</td>\n",
       "    </tr>\n",
       "    <tr>\n",
       "      <th>1.00</th>\n",
       "      <td>17.0</td>\n",
       "      <td>198.0</td>\n",
       "      <td>110.0</td>\n",
       "      <td>63.0</td>\n",
       "      <td>846.00</td>\n",
       "      <td>67.1</td>\n",
       "      <td>2.42000</td>\n",
       "      <td>81.0</td>\n",
       "      <td>1.0</td>\n",
       "    </tr>\n",
       "  </tbody>\n",
       "</table>\n",
       "</div>"
      ],
      "text/plain": [
       "      Pregnancies  Glucose  BloodPressure  SkinThickness  Insulin   BMI  \\\n",
       "0.00          0.0     56.0           24.0            7.0    14.00  18.2   \n",
       "0.25          1.0     99.0           62.0           21.0    76.75  28.4   \n",
       "0.50          2.0    119.0           70.0           29.0   125.50  33.2   \n",
       "0.75          5.0    143.0           78.0           37.0   190.00  37.1   \n",
       "1.00         17.0    198.0          110.0           63.0   846.00  67.1   \n",
       "\n",
       "      DiabetesPedigreeFunction   Age  Outcome  \n",
       "0.00                   0.08500  21.0      0.0  \n",
       "0.25                   0.26975  23.0      0.0  \n",
       "0.50                   0.44950  27.0      0.0  \n",
       "0.75                   0.68700  36.0      1.0  \n",
       "1.00                   2.42000  81.0      1.0  "
      ]
     },
     "execution_count": 18,
     "metadata": {},
     "output_type": "execute_result"
    }
   ],
   "source": [
    "#Finding quantile values\n",
    "\n",
    "diabetes_f.quantile([0,0.25,0.5,0.75, 1])"
   ]
  },
  {
   "cell_type": "code",
   "execution_count": 19,
   "id": "f74d3180",
   "metadata": {},
   "outputs": [],
   "source": [
    "# 0.0 is the min quantile\n",
    "# 0.25 is the 25% which is 1st quantile\n",
    "# 0.50 is the 50% which is 2nd quantile\n",
    "# 0.75 is the 75% which is 3rd quantile\n",
    "# 1.0 is the max quantile"
   ]
  },
  {
   "cell_type": "code",
   "execution_count": null,
   "id": "77d0e038",
   "metadata": {},
   "outputs": [],
   "source": []
  },
  {
   "cell_type": "code",
   "execution_count": null,
   "id": "c9f3e858",
   "metadata": {},
   "outputs": [],
   "source": []
  },
  {
   "cell_type": "markdown",
   "id": "3bbd1e14",
   "metadata": {},
   "source": [
    "## 4. Please create an appropriate plot to examine the relationship between Age and Glucose."
   ]
  },
  {
   "cell_type": "code",
   "execution_count": 20,
   "id": "be1ce6f4",
   "metadata": {},
   "outputs": [
    {
     "data": {
      "text/plain": [
       "Text(0, 0.5, 'Age')"
      ]
     },
     "execution_count": 20,
     "metadata": {},
     "output_type": "execute_result"
    },
    {
     "data": {
      "image/png": "[encoded data removed]",
      "text/plain": [
       "<Figure size 432x288 with 1 Axes>"
      ]
     },
     "metadata": {
      "needs_background": "light"
     },
     "output_type": "display_data"
    }
   ],
   "source": [
    "#Plotting Sactetr plot \n",
    "\n",
    "sns.scatterplot(x='Glucose', y='Age', data=diabetes_f)\n",
    "plt.title(' Relationship between Age and Glucose', fontsize=25)\n",
    "plt.xlabel('Glucose', fontsize=16)\n",
    "plt.ylabel('Age', fontsize=16)"
   ]
  },
  {
   "cell_type": "markdown",
   "id": "3e61aa15",
   "metadata": {},
   "source": [
    "**The above given graph describes the relation between Age and Glucose**"
   ]
  },
  {
   "cell_type": "code",
   "execution_count": null,
   "id": "9e60a71f",
   "metadata": {},
   "outputs": [],
   "source": []
  },
  {
   "cell_type": "code",
   "execution_count": null,
   "id": "c7824289",
   "metadata": {},
   "outputs": [],
   "source": []
  },
  {
   "cell_type": "markdown",
   "id": "10abdd93",
   "metadata": {},
   "source": [
    "## 5. Please create an appropriate plot to see the distribution of Outcome variable?\n"
   ]
  },
  {
   "cell_type": "code",
   "execution_count": 22,
   "id": "9a16c2ab",
   "metadata": {
    "scrolled": true
   },
   "outputs": [
    {
     "data": {
      "text/plain": [
       "Text(0, 0.5, 'Frequency')"
      ]
     },
     "execution_count": 22,
     "metadata": {},
     "output_type": "execute_result"
    },
    {
     "data": {
      "image/png": "[encoded data removed]",
      "text/plain": [
       "<Figure size 432x288 with 1 Axes>"
      ]
     },
     "metadata": {
      "needs_background": "light"
     },
     "output_type": "display_data"
    }
   ],
   "source": [
    "#Plotting histogram plot for distributing outcomes\n",
    "\n",
    "sns.histplot(diabetes_f['Outcome'], kde=True,edgecolor = 'white')\n",
    "plt.title('Diabities result', fontsize=25)\n",
    "plt.xlabel('Outcomes', fontsize=16)\n",
    "plt.ylabel('Frequency', fontsize=16)"
   ]
  },
  {
   "cell_type": "markdown",
   "id": "0d6e3613",
   "metadata": {},
   "source": [
    "**The above given graph describes the distribution of Outcome variable**"
   ]
  },
  {
   "cell_type": "code",
   "execution_count": null,
   "id": "9c328c4c",
   "metadata": {},
   "outputs": [],
   "source": []
  },
  {
   "cell_type": "code",
   "execution_count": null,
   "id": "4db03d81",
   "metadata": {},
   "outputs": [],
   "source": []
  },
  {
   "cell_type": "markdown",
   "id": "996f9554",
   "metadata": {},
   "source": [
    "## 6. Please examine the distribution of numerical data and explain which variable normally distributed and which variable is seems to be skewed. Please also tell the direction of skewness."
   ]
  },
  {
   "cell_type": "code",
   "execution_count": 55,
   "id": "8e5d59f5",
   "metadata": {
    "scrolled": false
   },
   "outputs": [
    {
     "data": {
      "image/png": "[encoded data removed]",
      "text/plain": [
       "<Figure size 720x288 with 1 Axes>"
      ]
     },
     "metadata": {
      "needs_background": "light"
     },
     "output_type": "display_data"
    },
    {
     "data": {
      "image/png": "[encoded data removed]",
      "text/plain": [
       "<Figure size 720x288 with 1 Axes>"
      ]
     },
     "metadata": {
      "needs_background": "light"
     },
     "output_type": "display_data"
    },
    {
     "data": {
      "image/png": "[encoded data removed]",
      "text/plain": [
       "<Figure size 720x288 with 1 Axes>"
      ]
     },
     "metadata": {
      "needs_background": "light"
     },
     "output_type": "display_data"
    },
    {
     "data": {
      "image/png": "[encoded data removed]",
      "text/plain": [
       "<Figure size 720x288 with 1 Axes>"
      ]
     },
     "metadata": {
      "needs_background": "light"
     },
     "output_type": "display_data"
    },
    {
     "data": {
      "image/png": "[encoded data removed]",
      "text/plain": [
       "<Figure size 720x288 with 1 Axes>"
      ]
     },
     "metadata": {
      "needs_background": "light"
     },
     "output_type": "display_data"
    },
    {
     "data": {
      "image/png": "[encoded data removed]",
      "text/plain": [
       "<Figure size 720x288 with 1 Axes>"
      ]
     },
     "metadata": {
      "needs_background": "light"
     },
     "output_type": "display_data"
    },
    {
     "data": {
      "image/png": "[encoded data removed]",
      "text/plain": [
       "<Figure size 720x288 with 1 Axes>"
      ]
     },
     "metadata": {
      "needs_background": "light"
     },
     "output_type": "display_data"
    },
    {
     "data": {
      "image/png": "[encoded data removed]",
      "text/plain": [
       "<Figure size 720x288 with 1 Axes>"
      ]
     },
     "metadata": {
      "needs_background": "light"
     },
     "output_type": "display_data"
    },
    {
     "data": {
      "image/png": "[encoded data removed]",
      "text/plain": [
       "<Figure size 720x288 with 1 Axes>"
      ]
     },
     "metadata": {
      "needs_background": "light"
     },
     "output_type": "display_data"
    }
   ],
   "source": [
    "#Plotting multiple graphs using for loops\n",
    "\n",
    "column = ['Pregnancies', 'Glucose', 'BloodPressure', 'SkinThickness', 'Insulin', 'BMI', 'DiabetesPedigreeFunction', 'Age', 'Outcome']\n",
    "for i in column:\n",
    "    fig, ax = plt.subplots(1,1, figsize=(10, 4))\n",
    "    sns.histplot(diabetes_f[i],kde=True,edgecolor = 'white')\n",
    "    plt.title('Distribution of %s'%(i), fontsize=25)\n",
    "    plt.xlabel(i, fontsize=16)\n",
    "    plt.ylabel('Frequency', fontsize=16)"
   ]
  },
  {
   "cell_type": "markdown",
   "id": "b483864a",
   "metadata": {},
   "source": [
    "The direction of skewness is “**to the tail**.” The larger the number, the longer the tail. If skewness is positive, the tail on the right side of the distribution will be longer. If skewness is negative, the tail on the left side will be longer."
   ]
  },
  {
   "cell_type": "markdown",
   "id": "5f757418",
   "metadata": {},
   "source": [
    "So as per the histogram,\n",
    "\n",
    "**Bloodpreasure** and **SkinThickness** are **normally distributed** because they are not having skewness tail\n",
    "\n",
    "**Outcome** variable is also **normally distributed** because there is only 2 data in which 0 mean non-diabetic and 1 means diabetic.\n",
    "\n",
    "\n",
    "And **Pregnencies, Glucose, Insulin, BMI and DiabetesPedigreeFunction** variables is seems to be **skewed**, because they are having skewness tail."
   ]
  },
  {
   "cell_type": "markdown",
   "id": "8dadcaa9",
   "metadata": {},
   "source": [
    "  **Direction of skewness.**\n",
    "  \n",
    "    \n",
    "  - ***Pregnencies :-*** Right tailed skewness\n",
    "  - ***Glucose :-*** Right tailed skewness\n",
    "  - ***Insulin :-*** Right tailed skewness\n",
    "  - ***BMI :-*** Right tailed skewness\n",
    "  - ***DiabetesPedigreeFunction :-*** Right tailed skewness\n",
    "  - ***Age :-*** Right tailed skewness\n",
    "  "
   ]
  },
  {
   "cell_type": "code",
   "execution_count": null,
   "id": "a986c95c",
   "metadata": {},
   "outputs": [],
   "source": []
  },
  {
   "cell_type": "code",
   "execution_count": null,
   "id": "b5c1d59b",
   "metadata": {},
   "outputs": [],
   "source": []
  },
  {
   "cell_type": "markdown",
   "id": "6e81a5a7",
   "metadata": {},
   "source": [
    "## 7. Please calculate the skewness value and divide variables into symmetrical, moderately skewed and highly skewed"
   ]
  },
  {
   "cell_type": "code",
   "execution_count": 25,
   "id": "30a90f32",
   "metadata": {},
   "outputs": [
    {
     "data": {
      "text/plain": [
       "Pregnancies                 1.335596\n",
       "Glucose                     0.517850\n",
       "BloodPressure              -0.087516\n",
       "SkinThickness               0.209311\n",
       "Insulin                     2.165116\n",
       "BMI                         0.663485\n",
       "DiabetesPedigreeFunction    1.959101\n",
       "Age                         1.403607\n",
       "Outcome                     0.717990\n",
       "dtype: float64"
      ]
     },
     "execution_count": 25,
     "metadata": {},
     "output_type": "execute_result"
    }
   ],
   "source": [
    "diabetes_f.skew()"
   ]
  },
  {
   "cell_type": "markdown",
   "id": "084b22fb",
   "metadata": {},
   "source": [
    "#### As a general rule of thumb:\n",
    "\n",
    "1. If skewness is less than -1 or greater than 1, the distribution is highly skewed.\n",
    "1. If skewness is between -1 and -0.5 or between 0.5 and 1, the distribution is moderately skewed.\n",
    "1. If skewness is between -0.5 and 0.5, the distribution is approximately symmetric."
   ]
  },
  {
   "cell_type": "markdown",
   "id": "70aa6c34",
   "metadata": {},
   "source": [
    "  **Distribution as per the skewness value given above**\n",
    "\n",
    "  - ***Pregnencies :-*** highly skewed\n",
    "  - ***Glucose :-*** moderately skewed\n",
    "  - ***BloodPressure :-*** symmetrical\n",
    "  - ***SkinThickness :-*** symmetrical\n",
    "  - ***Insulin :-*** highly skewed\n",
    "  - ***BMI :-*** moderately skewed\n",
    "  - ***DiabetesPedigreeFunction :-*** highly skewed\n",
    "  - ***Age :-*** highly skewed\n",
    "  - ***Outcome :-*** moderately skewed"
   ]
  },
  {
   "cell_type": "code",
   "execution_count": null,
   "id": "dd643ab8",
   "metadata": {},
   "outputs": [],
   "source": []
  },
  {
   "cell_type": "code",
   "execution_count": null,
   "id": "35ec49b9",
   "metadata": {},
   "outputs": [],
   "source": []
  },
  {
   "cell_type": "markdown",
   "id": "c5a3991e",
   "metadata": {},
   "source": [
    "## 8. Please create appropriate plot to examine the outliers of these variables. Please name the variables which have outliers."
   ]
  },
  {
   "cell_type": "code",
   "execution_count": 26,
   "id": "50277ca4",
   "metadata": {},
   "outputs": [
    {
     "data": {
      "text/plain": [
       "<AxesSubplot:xlabel='Outcome'>"
      ]
     },
     "execution_count": 26,
     "metadata": {},
     "output_type": "execute_result"
    },
    {
     "data": {
      "image/png": "[encoded data removed]",
      "text/plain": [
       "<Figure size 1080x864 with 9 Axes>"
      ]
     },
     "metadata": {
      "needs_background": "light"
     },
     "output_type": "display_data"
    }
   ],
   "source": [
    "fig, axes = plt.subplots(3, 3, figsize=(15, 12))\n",
    " \n",
    "fig.suptitle('Examine the outliers of the variables', fontsize=25)\n",
    "\n",
    "sns.boxplot(diabetes_f['Pregnancies'], ax=axes[0, 0])\n",
    "sns.boxplot(diabetes_f['Glucose'], ax=axes[0, 1])\n",
    "sns.boxplot(diabetes_f['BloodPressure'], ax=axes[0, 2])\n",
    "sns.boxplot(diabetes_f['SkinThickness'], ax=axes[1, 0])\n",
    "sns.boxplot(diabetes_f['Insulin'], ax=axes[1, 1])\n",
    "sns.boxplot(diabetes_f['BMI'], ax=axes[1, 2])\n",
    "sns.boxplot(diabetes_f['DiabetesPedigreeFunction'], ax=axes[2, 0])\n",
    "sns.boxplot(diabetes_f['Age'], ax=axes[2, 1])\n",
    "sns.boxplot(diabetes_f['Outcome'], ax=axes[2, 2])"
   ]
  },
  {
   "cell_type": "markdown",
   "id": "8e6221ef",
   "metadata": {},
   "source": [
    "#### What is outliers ?\n",
    "\n",
    " An outlier is an observation that lies an abnormal distance from other values in a random sample from a population. In a sense, this definition leaves it up to the analyst (or a consensus process) to decide what will be considered abnormal."
   ]
  },
  {
   "cell_type": "markdown",
   "id": "43b22e71",
   "metadata": {},
   "source": [
    "  **So thhe varibales containing outliers are:**\n",
    "\n",
    "  - Pregnencies\n",
    "  - BloodPressure \n",
    "  - SkinThickness \n",
    "  - Insulin \n",
    "  - BMI \n",
    "  - DiabetesPedigreeFunction \n",
    "  - Age "
   ]
  },
  {
   "cell_type": "code",
   "execution_count": null,
   "id": "fd0a2f2b",
   "metadata": {},
   "outputs": [],
   "source": []
  },
  {
   "cell_type": "code",
   "execution_count": null,
   "id": "6c3e89a5",
   "metadata": {},
   "outputs": [],
   "source": []
  },
  {
   "cell_type": "markdown",
   "id": "4e5e3bec",
   "metadata": {},
   "source": [
    "## 9. What should be the measures of central tendency and dispersion for skewed data?"
   ]
  },
  {
   "cell_type": "code",
   "execution_count": 28,
   "id": "f239b51b",
   "metadata": {},
   "outputs": [
    {
     "data": {
      "text/html": [
       "<div>\n",
       "<style scoped>\n",
       "    .dataframe tbody tr th:only-of-type {\n",
       "        vertical-align: middle;\n",
       "    }\n",
       "\n",
       "    .dataframe tbody tr th {\n",
       "        vertical-align: top;\n",
       "    }\n",
       "\n",
       "    .dataframe thead th {\n",
       "        text-align: right;\n",
       "    }\n",
       "</style>\n",
       "<table border=\"1\" class=\"dataframe\">\n",
       "  <thead>\n",
       "    <tr style=\"text-align: right;\">\n",
       "      <th></th>\n",
       "      <th>Pregnancies</th>\n",
       "      <th>Glucose</th>\n",
       "      <th>Insulin</th>\n",
       "      <th>BMI</th>\n",
       "      <th>DiabetesPedigreeFunction</th>\n",
       "      <th>Age</th>\n",
       "    </tr>\n",
       "  </thead>\n",
       "  <tbody>\n",
       "    <tr>\n",
       "      <th>3</th>\n",
       "      <td>1</td>\n",
       "      <td>89</td>\n",
       "      <td>94</td>\n",
       "      <td>28.1</td>\n",
       "      <td>0.167</td>\n",
       "      <td>21</td>\n",
       "    </tr>\n",
       "    <tr>\n",
       "      <th>4</th>\n",
       "      <td>0</td>\n",
       "      <td>137</td>\n",
       "      <td>168</td>\n",
       "      <td>43.1</td>\n",
       "      <td>2.288</td>\n",
       "      <td>33</td>\n",
       "    </tr>\n",
       "    <tr>\n",
       "      <th>6</th>\n",
       "      <td>3</td>\n",
       "      <td>78</td>\n",
       "      <td>88</td>\n",
       "      <td>31.0</td>\n",
       "      <td>0.248</td>\n",
       "      <td>26</td>\n",
       "    </tr>\n",
       "    <tr>\n",
       "      <th>8</th>\n",
       "      <td>2</td>\n",
       "      <td>197</td>\n",
       "      <td>543</td>\n",
       "      <td>30.5</td>\n",
       "      <td>0.158</td>\n",
       "      <td>53</td>\n",
       "    </tr>\n",
       "    <tr>\n",
       "      <th>13</th>\n",
       "      <td>1</td>\n",
       "      <td>189</td>\n",
       "      <td>846</td>\n",
       "      <td>30.1</td>\n",
       "      <td>0.398</td>\n",
       "      <td>59</td>\n",
       "    </tr>\n",
       "    <tr>\n",
       "      <th>...</th>\n",
       "      <td>...</td>\n",
       "      <td>...</td>\n",
       "      <td>...</td>\n",
       "      <td>...</td>\n",
       "      <td>...</td>\n",
       "      <td>...</td>\n",
       "    </tr>\n",
       "    <tr>\n",
       "      <th>753</th>\n",
       "      <td>0</td>\n",
       "      <td>181</td>\n",
       "      <td>510</td>\n",
       "      <td>43.3</td>\n",
       "      <td>0.222</td>\n",
       "      <td>26</td>\n",
       "    </tr>\n",
       "    <tr>\n",
       "      <th>755</th>\n",
       "      <td>1</td>\n",
       "      <td>128</td>\n",
       "      <td>110</td>\n",
       "      <td>36.5</td>\n",
       "      <td>1.057</td>\n",
       "      <td>37</td>\n",
       "    </tr>\n",
       "    <tr>\n",
       "      <th>760</th>\n",
       "      <td>2</td>\n",
       "      <td>88</td>\n",
       "      <td>16</td>\n",
       "      <td>28.4</td>\n",
       "      <td>0.766</td>\n",
       "      <td>22</td>\n",
       "    </tr>\n",
       "    <tr>\n",
       "      <th>763</th>\n",
       "      <td>10</td>\n",
       "      <td>101</td>\n",
       "      <td>180</td>\n",
       "      <td>32.9</td>\n",
       "      <td>0.171</td>\n",
       "      <td>63</td>\n",
       "    </tr>\n",
       "    <tr>\n",
       "      <th>765</th>\n",
       "      <td>5</td>\n",
       "      <td>121</td>\n",
       "      <td>112</td>\n",
       "      <td>26.2</td>\n",
       "      <td>0.245</td>\n",
       "      <td>30</td>\n",
       "    </tr>\n",
       "  </tbody>\n",
       "</table>\n",
       "<p>392 rows × 6 columns</p>\n",
       "</div>"
      ],
      "text/plain": [
       "     Pregnancies  Glucose  Insulin   BMI  DiabetesPedigreeFunction  Age\n",
       "3              1       89       94  28.1                     0.167   21\n",
       "4              0      137      168  43.1                     2.288   33\n",
       "6              3       78       88  31.0                     0.248   26\n",
       "8              2      197      543  30.5                     0.158   53\n",
       "13             1      189      846  30.1                     0.398   59\n",
       "..           ...      ...      ...   ...                       ...  ...\n",
       "753            0      181      510  43.3                     0.222   26\n",
       "755            1      128      110  36.5                     1.057   37\n",
       "760            2       88       16  28.4                     0.766   22\n",
       "763           10      101      180  32.9                     0.171   63\n",
       "765            5      121      112  26.2                     0.245   30\n",
       "\n",
       "[392 rows x 6 columns]"
      ]
     },
     "execution_count": 28,
     "metadata": {},
     "output_type": "execute_result"
    }
   ],
   "source": [
    "#Filtering skewed data\n",
    "\n",
    "skw_data = diabetes_f.filter(items=['Pregnancies','Glucose','Insulin', 'BMI','DiabetesPedigreeFunction','Age'])\n",
    "skw_data"
   ]
  },
  {
   "cell_type": "markdown",
   "id": "c6634182",
   "metadata": {},
   "source": [
    "#### The measure of central tendency \n",
    "   - mean\n",
    "   - median\n",
    "   - mode"
   ]
  },
  {
   "cell_type": "markdown",
   "id": "a9c10cbe",
   "metadata": {},
   "source": [
    "The **median** is usually preferred to other measures of central tendency when your data set is **skewed data**. However, the mode can also be appropriate in these situations, but is not as commonly used as the median.\n",
    "\n",
    "So here we are finding mode for all the skewed data variables."
   ]
  },
  {
   "cell_type": "code",
   "execution_count": 30,
   "id": "aef4d9e4",
   "metadata": {},
   "outputs": [
    {
     "data": {
      "text/plain": [
       "Pregnancies                   2.0000\n",
       "Glucose                     119.0000\n",
       "Insulin                     125.5000\n",
       "BMI                          33.2000\n",
       "DiabetesPedigreeFunction      0.4495\n",
       "Age                          27.0000\n",
       "dtype: float64"
      ]
     },
     "execution_count": 30,
     "metadata": {},
     "output_type": "execute_result"
    }
   ],
   "source": [
    "#median\n",
    "skw_data.median()"
   ]
  },
  {
   "cell_type": "markdown",
   "id": "eda730c5",
   "metadata": {},
   "source": [
    "The measure of central tendancy for all the skewed data are given above"
   ]
  },
  {
   "cell_type": "code",
   "execution_count": null,
   "id": "55a4a0f1",
   "metadata": {},
   "outputs": [],
   "source": []
  },
  {
   "cell_type": "markdown",
   "id": "a3e800ae",
   "metadata": {},
   "source": [
    "#### The measure of dispersion can be find by:  \n",
    "\n",
    "   - minimum value\n",
    "   - maximum value\n",
    "   - Range\n",
    "   - variance\n",
    "   - standard deviation\n",
    "   - 75th percentile\n",
    "   - 50th percentile\n",
    "   - 25th percentile\n",
    "   - IQR"
   ]
  },
  {
   "cell_type": "markdown",
   "id": "3b29d38c",
   "metadata": {},
   "source": [
    "The best measure of spread when the **median** is the center is the **IQR**. As for when the center is the **mean**, then **standard deviation** should be used since it measure the distance between a data point and the mean.\n",
    "\n",
    "Here we are using **median** for the central tendancy. Therefore, we will use **IQR** to find the despersion. "
   ]
  },
  {
   "cell_type": "markdown",
   "id": "a97e0129",
   "metadata": {},
   "source": [
    "##### Interquartile range (IQR)\n",
    "\n",
    "The interquartile range (IQR) is a measure of variability, based on dividing a data set into quartiles.\n",
    "\n",
    "Quartiles divide a rank-ordered data set into four equal parts. The values that divide each part are called the first, second, and third quartiles; and they are denoted by Q1, Q2, and Q3, respectively.\n",
    "\n",
    "- **Q1** is the \"middle\" value in the **first half** of the rank-ordered data set wich is **25th percentile**.\n",
    "- **Q2** is the **median** value in the set **50th percentile**.\n",
    "- **Q3** is the \"middle\" value in the **second half** of the rank-ordered data set **75th percentile**."
   ]
  },
  {
   "cell_type": "code",
   "execution_count": 39,
   "id": "1a420e5c",
   "metadata": {},
   "outputs": [
    {
     "data": {
      "text/plain": [
       "Pregnancies                  1.00000\n",
       "Glucose                     99.00000\n",
       "Insulin                     76.75000\n",
       "BMI                         28.40000\n",
       "DiabetesPedigreeFunction     0.26975\n",
       "Age                         23.00000\n",
       "Name: 0.25, dtype: float64"
      ]
     },
     "execution_count": 39,
     "metadata": {},
     "output_type": "execute_result"
    }
   ],
   "source": [
    "#25th percentile Q1\n",
    "q1 = skw_data.quantile(0.25)\n",
    "q1"
   ]
  },
  {
   "cell_type": "code",
   "execution_count": 38,
   "id": "3bf8397a",
   "metadata": {},
   "outputs": [
    {
     "data": {
      "text/plain": [
       "Pregnancies                   5.000\n",
       "Glucose                     143.000\n",
       "Insulin                     190.000\n",
       "BMI                          37.100\n",
       "DiabetesPedigreeFunction      0.687\n",
       "Age                          36.000\n",
       "Name: 0.75, dtype: float64"
      ]
     },
     "execution_count": 38,
     "metadata": {},
     "output_type": "execute_result"
    }
   ],
   "source": [
    "#75th percentile Q3\n",
    "q3 = skw_data.quantile(0.75)\n",
    "q3"
   ]
  },
  {
   "cell_type": "markdown",
   "id": "d8de42f2",
   "metadata": {},
   "source": [
    "- IQR can be find by the q3-q1"
   ]
  },
  {
   "cell_type": "code",
   "execution_count": 40,
   "id": "34eff77c",
   "metadata": {},
   "outputs": [
    {
     "data": {
      "text/plain": [
       "Pregnancies                   4.00000\n",
       "Glucose                      44.00000\n",
       "Insulin                     113.25000\n",
       "BMI                           8.70000\n",
       "DiabetesPedigreeFunction      0.41725\n",
       "Age                          13.00000\n",
       "dtype: float64"
      ]
     },
     "execution_count": 40,
     "metadata": {},
     "output_type": "execute_result"
    }
   ],
   "source": [
    "#interquartile range\n",
    "IQR = q3  - q1\n",
    "IQR"
   ]
  },
  {
   "cell_type": "markdown",
   "id": "576978c8",
   "metadata": {},
   "source": [
    "IQR values for all the variables containing skewed data are given above."
   ]
  },
  {
   "cell_type": "code",
   "execution_count": null,
   "id": "6d9d2702",
   "metadata": {},
   "outputs": [],
   "source": []
  },
  {
   "cell_type": "markdown",
   "id": "43f1d10c",
   "metadata": {},
   "source": [
    "### Github link is given belowed\n",
    "\n",
    "- https://github.com/rhythmbhavsar/Diabetes-"
   ]
  },
  {
   "cell_type": "code",
   "execution_count": null,
   "id": "c0967651",
   "metadata": {},
   "outputs": [],
   "source": []
  }
 ],
 "metadata": {
  "kernelspec": {
   "display_name": "Python 3 (ipykernel)",
   "language": "python",
   "name": "python3"
  },
  "language_info": {
   "codemirror_mode": {
    "name": "ipython",
    "version": 3
   },
   "file_extension": ".py",
   "mimetype": "text/x-python",
   "name": "python",
   "nbconvert_exporter": "python",
   "pygments_lexer": "ipython3",
   "version": "3.9.7"
  }
 },
 "nbformat": 4,
 "nbformat_minor": 5
}
